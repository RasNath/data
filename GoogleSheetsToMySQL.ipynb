{
 "cells": [
  {
   "cell_type": "markdown",
   "metadata": {},
   "source": [
    "## Import libraries"
   ]
  },
  {
   "cell_type": "code",
   "execution_count": 1,
   "metadata": {},
   "outputs": [],
   "source": [
    "# import libraries\n",
    "import gspread\n",
    "import MySQLCredentials as mc\n",
    "import mysql.connector\n",
    "from oauth2client.service_account import ServiceAccountCredentials"
   ]
  },
  {
   "cell_type": "markdown",
   "metadata": {},
   "source": [
    "## Initialize variables"
   ]
  },
  {
   "cell_type": "code",
   "execution_count": 2,
   "metadata": {},
   "outputs": [],
   "source": [
    "# initialize variables for gspread\n",
    "scope = ['https://spreadsheets.google.com/feeds',\n",
    "         'https://www.googleapis.com/auth/drive']\n",
    "creds = ServiceAccountCredentials.from_json_keyfile_name('GoogleSheetsToMySQL.json', scope)\n",
    "client = gspread.authorize(creds)"
   ]
  },
  {
   "cell_type": "code",
   "execution_count": 3,
   "metadata": {},
   "outputs": [],
   "source": [
    "# define method to pull data from spreadsheet\n",
    "def GetSpreadsheetData(sheetName, worksheetIndex):\n",
    "    sheet = client.open(sheetName).get_worksheet(worksheetIndex)\n",
    "    return sheet.get_all_values()[1:]\n",
    "\n",
    "def PreserveNULLValues(listName):\n",
    "    print('Preserving NULL values...')\n",
    "    for x in range(len(listName)):\n",
    "        for y in range(len(listName[x])):\n",
    "            if listName[x][y] == '':\n",
    "                listName[x][y] = None\n",
    "    print('NULL values preserved.')"
   ]
  },
  {
   "cell_type": "markdown",
   "metadata": {},
   "source": [
    "## Define methods"
   ]
  },
  {
   "cell_type": "code",
   "execution_count": 19,
   "metadata": {},
   "outputs": [],
   "source": [
    "# define method to write list of data to MySQL table\n",
    "def WriteToMySQLTable(sql_data, tableName):\n",
    "    try:\n",
    "        connection = mysql.connector.connect(\n",
    "                user       = mc.user,\n",
    "                password   = mc.password,\n",
    "                host       = mc.host,\n",
    "                database   = mc.database\n",
    "            )\n",
    "        sql_drop = \" DROP TABLE IF EXISTS {} \".format(tableName)\n",
    "        sql_create_table = \"\"\"CREATE TABLE {}\n",
    "                ( FK INT(11),\n",
    "                  level INT(11),\n",
    "                  FOREIGN KEY (FK) REFERENCES table1(PK)\n",
    "                )\"\"\".format(tableName)\n",
    " \n",
    "        sql_insert_statement = \"\"\"INSERT INTO {}\n",
    "                ( FK,\n",
    "                  level\n",
    "                   )\n",
    "        VALUES ( %s,%s )\"\"\".format(tableName)\n",
    "        cursor = connection.cursor()\n",
    "        #cursor.execute(sql_drop)\n",
    "        print('Table {} has been dropped'.format(tableName))\n",
    "        cursor.execute(sql_create_table)\n",
    "        print('Table {} has been created'.format(tableName))\n",
    "        for i in sql_data:\n",
    "            cursor.execute(sql_insert_statement, i)\n",
    "        connection.commit()\n",
    "        print(\"Table {} successfully updated.\".format(tableName))\n",
    "    except mysql.connector.Error as error :\n",
    "        connection.rollback()\n",
    "        print(\"Error: {}. Table {} not updated!\".format(error, tableName))\n",
    "    finally:\n",
    "        cursor.execute('SELECT COUNT(*) FROM {}'.format(tableName))\n",
    "        rowCount = cursor.fetchone()[0]\n",
    "        print(tableName, 'row count:', rowCount)\n",
    "        if connection.is_connected():\n",
    "            cursor.close()\n",
    "            connection.close()\n",
    "            print(\"MySQL connection is closed.\")"
   ]
  },
  {
   "cell_type": "code",
   "execution_count": null,
   "metadata": {},
   "outputs": [],
   "source": [
    "# update data in MySQL table\n",
    "def UpdateMySQLTable(sql_data, tableName):\n",
    "# we are using a try/except block (also called a try/catch block in other languages) which is good for error handling. It will \"try\" to execute anything in the \"try\" block, and if there is an error, it will report the error in the \"except\" block. Regardless of any errors, the \"finally\" block will always be executed.\n",
    "    try:\n",
    "# Here we include the connection credentials for MySQL. We create a connection object that we pass the credentials to, and notice that we specify the database (which from the mysqlcreds.py file tells us that we will be using the qa_db database so we won't need to include that in any code when executing any MySQL statements\n",
    "        connection = mysql.connector.connect(\n",
    "                user       = mc.user,\n",
    "                password   = mc.password,\n",
    "                host       = mc.host,\n",
    "                database   = mc.database\n",
    "            )\n",
    " \n",
    "        sql_insert_statement = \"\"\"INSERT INTO {}\n",
    "                ( Column1,\n",
    "                  Column2,\n",
    "                  Column3 )\n",
    "        VALUES ( %s,%s,%s )\"\"\".format(tableName)\n",
    "        cursor = connection.cursor()\n",
    "        for i in sql_data:\n",
    "            cursor.execute(sql_insert_statement, i)\n",
    "        connection.commit()\n",
    "        print(\"Table {} successfully updated.\".format(tableName))\n",
    "    except mysql.connector.Error as error :\n",
    "        connection.rollback()\n",
    "        print(\"Error: {}. Table {} not updated!\".format(error, tableName))\n",
    "    finally:\n",
    "        cursor.execute('SELECT COUNT(*) FROM {}'.format(tableName))\n",
    "        rowCount = cursor.fetchone()[0]\n",
    "        print(tableName, 'row count:', rowCount)\n",
    "        if connection.is_connected():\n",
    "            cursor.close()\n",
    "            connection.close()\n",
    "            print(\"MySQL connection is closed.\")"
   ]
  },
  {
   "cell_type": "markdown",
   "metadata": {},
   "source": [
    "## Execute Method(s)"
   ]
  },
  {
   "cell_type": "code",
   "execution_count": 20,
   "metadata": {},
   "outputs": [
    {
     "name": "stdout",
     "output_type": "stream",
     "text": [
      "Preserving NULL values...\n",
      "NULL values preserved.\n",
      "Table table2 has been dropped\n",
      "Table table2 has been created\n",
      "Table table2 successfully updated.\n",
      "table2 row count: 10\n",
      "MySQL connection is closed.\n"
     ]
    }
   ],
   "source": [
    "PreserveNULLValues(data)\n",
    "WriteToMySQLTable(data, 'table2')"
   ]
  },
  {
   "cell_type": "code",
   "execution_count": 10,
   "metadata": {},
   "outputs": [
    {
     "name": "stdout",
     "output_type": "stream",
     "text": [
      "Preserving NULL values...\n",
      "NULL values preserved.\n",
      "Table MyData successfully updated.\n",
      "MyData row count: 20\n",
      "MySQL connection is closed.\n"
     ]
    }
   ],
   "source": [
    "data = GetSpreadsheetData('GoogleSheetData', 1)\n",
    "PreserveNULLValues(data)\n",
    "UpdateMySQLTable(data, 'MyData')"
   ]
  }
 ],
 "metadata": {
  "kernelspec": {
   "display_name": "Python 3",
   "language": "python",
   "name": "python3"
  },
  "language_info": {
   "codemirror_mode": {
    "name": "ipython",
    "version": 3
   },
   "file_extension": ".py",
   "mimetype": "text/x-python",
   "name": "python",
   "nbconvert_exporter": "python",
   "pygments_lexer": "ipython3",
   "version": "3.7.1"
  },
  "varInspector": {
   "cols": {
    "lenName": 16,
    "lenType": 16,
    "lenVar": 40
   },
   "kernels_config": {
    "python": {
     "delete_cmd_postfix": "",
     "delete_cmd_prefix": "del ",
     "library": "var_list.py",
     "varRefreshCmd": "print(var_dic_list())"
    },
    "r": {
     "delete_cmd_postfix": ") ",
     "delete_cmd_prefix": "rm(",
     "library": "var_list.r",
     "varRefreshCmd": "cat(var_dic_list()) "
    }
   },
   "types_to_exclude": [
    "module",
    "function",
    "builtin_function_or_method",
    "instance",
    "_Feature"
   ],
   "window_display": false
  }
 },
 "nbformat": 4,
 "nbformat_minor": 2
}
